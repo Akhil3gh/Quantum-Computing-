{
 "cells": [
  {
   "cell_type": "markdown",
   "metadata": {},
   "source": [
    "## **Program 1**\n",
    "\n",
    "##  Measurement in different bases\n",
    "Qiskit allows measurement only in the computational basis directly. However, we can also perform meaurements in other bases. \n",
    "For example, consider the Hadamard basis $\\{|+\\rangle, |-\\rangle\\}$. When we measure in this basis, we get an outcome that is one of the two basis vectors. This can be done by projecting a general state $|\\psi\\rangle$ onto each of the basis states $|+\\rangle$ and $|-\\rangle$. The probability of obtaining the $+$ outcome is $ P_{+}(|\\psi\\rangle) = |\\langle +|\\psi\\rangle |^{2}$ and similarly for $-$. We note here that $|+\\rangle = H|0\\rangle$. Taking the adoint of this equation, we get $\\langle +| = \\langle 0|H^{\\dagger} = \\langle 0|H$ where we have used the fact that the Hadamard transformation is equal to it's adjoint (easily verified from the matrix representation). So we can write $ P_{+}(|\\psi\\rangle) = |\\langle +|\\psi\\rangle |^{2} =  |\\langle 0| H\\psi\\rangle |^{2}$. It seems that the probability of measuring the $+$ outcome in the Hadamard basis is the same as the probability of measuring $0$ in the computational basis after applying the Hadamard transformation to the statevector $|\\psi\\rangle$. So, if we want to measure in the Hadamard basis, we need only to apply a Hadamard gate to our qubit and measure in the computational basis. Similar arguments apply to measuring in other bases too. If we can transform the standard basis states into the basis states for some basis $\\mathcal{B}$ via some transformation, applying the inverse transformation allows us to measure in the basis $\\mathcal{B}$ using standard basis measurements. \n"
   ]
  },
  {
   "cell_type": "markdown",
   "metadata": {},
   "source": [
    "## **Problem**\n",
    "\n",
    "To prepare the state $|i\\rangle$ in a quantum circuit and measure it in the Hadamard basis $\\{ |+\\rangle, |-\\rangle \\}$. Add appropriate gates to prepare the $|i\\rangle$ state and then add the appropriate gates and a standard basis measurement to measure required it in the Hadamard basis. It is required that to use separate gates for both these actions. "
   ]
  },
  {
   "cell_type": "code",
   "execution_count": 4,
   "metadata": {},
   "outputs": [],
   "source": [
    "#Importing Python libraries and standard Qiskit libraries\n",
    "\n",
    "%matplotlib inline\n",
    "import hashlib\n",
    "import numpy as np\n",
    "import matplotlib.pyplot as plt\n",
    "from qiskit import QuantumCircuit, execute\n",
    "from qiskit.circuit import Parameter\n",
    "from qiskit.providers.aer import QasmSimulator, StatevectorSimulator\n",
    "from qiskit.visualization import *\n",
    "from qiskit.quantum_info import *\n",
    "from qiskit.circuit.library import HGate"
   ]
  },
  {
   "cell_type": "code",
   "execution_count": 5,
   "metadata": {},
   "outputs": [
    {
     "data": {
      "image/png": "[encoded data removed]",
      "text/plain": [
       "<Figure size 472.059x144.48 with 1 Axes>"
      ]
     },
     "execution_count": 5,
     "metadata": {},
     "output_type": "execute_result"
    }
   ],
   "source": [
    "# Quantum Circuit Implementation for Problem \n",
    "\n",
    "qc1 = QuantumCircuit(1) \n",
    "# Insert gates below to create the state \n",
    "qc1.h(0)\n",
    "qc1.s(0)\n",
    "qc1.h(0)\n",
    "# Insert the necessary gates to change to the Hadamard basis below and measure\n",
    "qc1.measure_all()\n",
    "\n",
    "qc1.draw('mpl')"
   ]
  },
  {
   "cell_type": "code",
   "execution_count": 7,
   "metadata": {},
   "outputs": [
    {
     "data": {
      "image/png": "[encoded data removed]",
      "text/plain": [
       "<Figure size 504x360 with 1 Axes>"
      ]
     },
     "execution_count": 7,
     "metadata": {},
     "output_type": "execute_result"
    }
   ],
   "source": [
    "# Visualizing the measured Quantum State\n",
    "\n",
    "basis_gates = ['id', 'x', 'y', 'z', 's', 't', 'sdg', 'tdg', 'h', 'p', 'sx' ,'r', 'rx', 'ry', 'rz', 'u', 'u1', 'u2', 'u3', 'barrier', 'measure']\n",
    "assert list(qc1.count_ops()) != [], \"Circuit cannot be empty\"\n",
    "assert set(qc1.count_ops().keys()).intersection(basis_gates) != set(), \"Only basic gates are allowed\"\n",
    "job = execute(qc1, backend=QasmSimulator(), shots=1024, seed_simulator=0)\n",
    "counts = job.result().get_counts()\n",
    "sv_check = Statevector.from_instruction(qc1.remove_final_measurements(inplace=False)).evolve(HGate()).equiv(Statevector.from_label('r'))\n",
    "op_check_dict = qc1.count_ops()\n",
    "_ = op_check_dict.pop('measure', None)\n",
    "_ = op_check_dict.pop('barrier', None)\n",
    "op_check = len(op_check_dict) > 1\n",
    "answer1 = hashlib.sha256((str(counts)+str(sv_check and op_check)).encode()).hexdigest()\n",
    "plot_histogram(counts)"
   ]
  },
  {
   "cell_type": "markdown",
   "metadata": {},
   "source": [
    " "
   ]
  },
  {
   "cell_type": "code",
   "execution_count": null,
   "metadata": {},
   "outputs": [],
   "source": []
  }
 ],
 "metadata": {
  "kernelspec": {
   "display_name": "Python 3",
   "language": "python",
   "name": "python3"
  },
  "language_info": {
   "codemirror_mode": {
    "name": "ipython",
    "version": 3
   },
   "file_extension": ".py",
   "mimetype": "text/x-python",
   "name": "python",
   "nbconvert_exporter": "python",
   "pygments_lexer": "ipython3",
   "version": "3.7.4"
  }
 },
 "nbformat": 4,
 "nbformat_minor": 2
}
