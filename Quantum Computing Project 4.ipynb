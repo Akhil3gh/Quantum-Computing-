{
 "cells": [
  {
   "cell_type": "markdown",
   "metadata": {},
   "source": [
    "## **Project 4**\n",
    "\n",
    "## Superdense Coding\n",
    "In quantum information, there are various measures and methods to compare the amount of information that can be stored or transmitted using qubits and how that compares to classical bits. While these are far outside the scope of an introductory course, a proof of concept depicting an enhancement facilitated by quantum entanglement should be simple enough to see. Superdense coding (sometimes also called dense coding) is one such example. It is also very closely related to quantum teleportation. The protocol is detailed below.\n",
    "\n",
    "Using superdense coding, two parties (Alice and Bob) who share an entangled Bell pair, can transmit two classical bits worth of information by sending only one qubit from the sender to the recipient. The important part here is really the Bell pair as this protocol does not work without it. In the case presented below, Alice is the sender and Bob is the recipient. \n"
   ]
  },
  {
   "cell_type": "code",
   "execution_count": 4,
   "metadata": {},
   "outputs": [],
   "source": [
    "# importing standard python and Qiskit libraries\n",
    "\n",
    "%matplotlib inline\n",
    "import numpy as np\n",
    "import matplotlib.pyplot as plt\n",
    "import qiskit\n",
    "from qiskit import QuantumCircuit, execute\n",
    "from qiskit.providers.aer import QasmSimulator, StatevectorSimulator\n",
    "from qiskit.visualization import *\n",
    "from qiskit.quantum_info import *\n",
    "\n",
    "basis_gates = ['id', 'x', 'y', 'z', 's', 't', 'sdg', 'tdg', 'h', 'p', 'sx' ,'r', 'rx', 'ry', 'rz', 'u', 'u1', 'u2', 'u3', 'cx', 'barrier', 'measure', 'snapshot']"
   ]
  },
  {
   "cell_type": "markdown",
   "metadata": {},
   "source": [
    "### Protocol:\n",
    "\n",
    "1. Alice prepares a Bell state $|B_{00}\\rangle$ and transmits the second qubit to Bob. (Note that no 'information' has been encoded or sent yet).\n",
    "2. **The Encoding Step:** Alice encodes two classical bits of information into her qubit (one of the Bell pair qubits) by performing only single-qubit operations.\n",
    "3. Alice then sends her qubit to Bob.\n",
    "4. **The Decoding Step:** Bob measures both the qubits and gets both of Alice's encoded bits as the measurement outcome.\n",
    "\n",
    "In this problem, we will _simulate_ superdense coding in the framework of quantum computing. Because of this, it is not possible to send any qubits anywhere, so we will have to pretend those parts are happening. We will imagine that Alice prepares the Bell pair and sends the second qubit to Bob. As we mentioned before, no information has been sent yet because if Bob measures his qubit now, he will measure equal outcomes in any basis he chooses to measure in. Alice then perform her encoding operations only on the first qubit. Our understanding will be that she cannot perform any operations on the second qubit since she has already sent it to Bob. Now we imagine that she sends her qubit to Bob so that he now has both qubits. Bob can now measure both qubits in the Bell basis and it is expected that he will be able to decode the bits Alice encoded. We will simulate this entire process using a two-qubit quantum circuit. "
   ]
  },
  {
   "cell_type": "markdown",
   "metadata": {},
   "source": [
    "## **Problem**\n",
    "\n",
    "Given below is the structure for a function `superdense_coding_circ(bitstr)`. This will generate the quantum circuit for the whole process when Alice wants to encode and transmit the two-bit string`bitstr` (`bitstr` has possible values `00`,`01`,`10`,`11`). Your task is to complete the function to behave as expected. You may use the `compose()` and `extend()` to join circuits together.  \n",
    "\n",
    "\n",
    "1. Prepare the Bell state $|B_{00}\\rangle$.\n",
    "2. Perform the single-qubit encoding operation on the first qubit using basic single qubit gates only. The single qubit operations should be such that it changes the $|B_{00}\\rangle$ to the Bell state corresponding to `bitstr`. For example, if Alice wants to encode the `bitstr` `01`, any single qubit operations you apply on the first qubit should take the two-qubit state from $|B_{00}\\rangle$ to $|B_{01}\\rangle$. This should work for all four possible values of `bitstr`.\n",
    "3. Apply the necessary gates to switch to the Bell basis for measurement. A measurement instruction is provided for you, so please do not add another one. \n",
    "\n",
    "The four Bell states are given below:\n",
    "\n",
    "\\begin{equation*}\n",
    "\\begin{split}\n",
    "|B_{00}\\rangle &\\,=\\, \\frac{|00\\rangle + |11\\rangle}{\\sqrt{2}} \\\\\n",
    "|B_{01}\\rangle &\\,=\\, \\frac{|01\\rangle + |10\\rangle}{\\sqrt{2}} \\\\\n",
    "|B_{10}\\rangle &\\,=\\, \\frac{|00\\rangle - |11\\rangle}{\\sqrt{2}} \\\\\n",
    "|B_{11}\\rangle &\\,=\\, \\frac{|01\\rangle - |10\\rangle}{\\sqrt{2}}   \n",
    "\\end{split}\n",
    "\\end{equation*}"
   ]
  },
  {
   "cell_type": "code",
   "execution_count": 6,
   "metadata": {},
   "outputs": [],
   "source": [
    "# Quantum Circuit Implementation of the desired protocol\n",
    "\n",
    "def superdense_coding_circ(bitstr):\n",
    "    '''\n",
    "    bitstr is a 2-character string with possible values '00', '01', '10', '11'\n",
    "    '''\n",
    "    qc2 = QuantumCircuit(2)\n",
    "  \n",
    "    # Prepare a Bell state B_00 \n",
    "    qc2.h(0)\n",
    "    qc2.cx(0,1)\n",
    "    \n",
    "    \n",
    "    qc2.snapshot('1')\n",
    "    # Apply single-qubit gates only on q_0 to encode the bitstring\n",
    "    if bitstr=='00':\n",
    "        pass\n",
    "    if bitstr=='10':\n",
    "        qc2.z(0)\n",
    "    if bitstr=='01':\n",
    "        qc2.x(0)\n",
    "    if bitstr=='11':\n",
    "        qc2.z(0)\n",
    "        qc2.x(0)\n",
    "   \n",
    "\n",
    "    \n",
    "    qc2.snapshot('2')\n",
    "   # Apply gates to change to the Bell basis\n",
    "    qc2.cx(0,1)\n",
    "    qc2.h(0)\n",
    "    \n",
    "\n",
    "     \n",
    "    qc2.snapshot('3')\n",
    "    \n",
    "    qc2.measure_all()\n",
    "    return qc2"
   ]
  },
  {
   "cell_type": "code",
   "execution_count": 9,
   "metadata": {},
   "outputs": [
    {
     "name": "stdout",
     "output_type": "stream",
     "text": [
      "success\n"
     ]
    },
    {
     "data": {
      "image/png": "[encoded data removed]",
      "text/plain": [
       "<Figure size 288x288 with 1 Axes>"
      ]
     },
     "metadata": {
      "needs_background": "light"
     },
     "output_type": "display_data"
    }
   ],
   "source": [
    "# Visualization\n",
    "\n",
    "b00_sv = (Statevector.from_label('00')+Statevector.from_label('11'))/np.sqrt(2)\n",
    "b01_sv = (Statevector.from_label('01')+Statevector.from_label('10'))/np.sqrt(2)\n",
    "b10_sv = (Statevector.from_label('00')-Statevector.from_label('11'))/np.sqrt(2)\n",
    "b11_sv = (Statevector.from_label('01')-Statevector.from_label('10'))/np.sqrt(2)\n",
    "bell_states_sv = [b00_sv, b01_sv, b10_sv, b11_sv]\n",
    "basis_states = ['00', '01', '10', '11']\n",
    "bell_dict = dict(zip(basis_states, bell_states_sv))\n",
    "enc_dec_mat = np.zeros((len(basis_states),len(basis_states)))\n",
    "try:\n",
    "    for state in basis_states:\n",
    "        sv_checks = []\n",
    "        qc = superdense_coding_circ(state)\n",
    "        assert list(qc.count_ops()) != [], f\" Bitstring {state}: Circuit cannot be empty\"\n",
    "        assert qc.count_ops()['measure'] <= 2, f\" Bitstring {state}: Please remove extra measurements\"\n",
    "        assert qc.count_ops()['snapshot'] == 3, f\" Bitstring {state}: Please do not add or remove snapshots\"\n",
    "        assert set(qc.count_ops().keys()).difference(basis_gates) == set(), f\" Bitstring {state}: Only the following basic gates are allowed: {basis_gates}\"\n",
    "        assert all([type(gate[0]) == qiskit.circuit.measure.Measure for gate in qc.data[-2:len(qc.data)]]), f\" Bitstring {state}: Measurement must be the last operation in a circuit.\"\n",
    "        result = execute(qc.reverse_bits(),backend=QasmSimulator(), shots=1).result().get_counts().most_frequent()\n",
    "        assert state == result, f\" Bitstring {state}: Your encoding is not correct\"\n",
    "        enc_dec_mat[int(state,2), int(result,2)] = 1\n",
    "        sv = execute(qc.reverse_bits(), backend=StatevectorSimulator()).result().data()['snapshots']['statevector']\n",
    "        sv_checks.append(b00_sv.equiv(sv['1'][0]))\n",
    "        sv_checks.append(bell_dict[state].equiv(sv['2'][0]))\n",
    "        sv_checks.append(Statevector.from_label(state).equiv(sv['3'][0]))\n",
    "    assert all(np.diag(enc_dec_mat) == np.ones(4)), \"Your encoding is not correct\"\n",
    "    plt.matshow(enc_dec_mat, cmap='binary')\n",
    "    plt.title('Superdense Coding Matrix')\n",
    "    plt.xlabel(\"Alice's encoded bits\", fontsize=14)\n",
    "    plt.ylabel(\"Bob's decoded bits\", fontsize=14)\n",
    "    plt.xticks(ticks=range(4), labels=basis_states, fontsize=12)\n",
    "    plt.yticks(ticks=range(4), labels=basis_states, fontsize=12)\n",
    "    circ_check = all(sv_checks)\n",
    "    assert circ_check, \"Your circuit does not work for all bitstrings\"\n",
    "\n",
    "    print(\"success\" if circ_check else \"failed\")\n",
    "except AssertionError as e:\n",
    "    print(f'Your code has an error:  {e.args[0]}')\n",
    "    \n",
    "except Exception as e:\n",
    "    print(f'This error occured: {e.args[0]}')"
   ]
  },
  {
   "cell_type": "code",
   "execution_count": null,
   "metadata": {},
   "outputs": [],
   "source": []
  }
 ],
 "metadata": {
  "kernelspec": {
   "display_name": "Python 3",
   "language": "python",
   "name": "python3"
  },
  "language_info": {
   "codemirror_mode": {
    "name": "ipython",
    "version": 3
   },
   "file_extension": ".py",
   "mimetype": "text/x-python",
   "name": "python",
   "nbconvert_exporter": "python",
   "pygments_lexer": "ipython3",
   "version": "3.7.4"
  }
 },
 "nbformat": 4,
 "nbformat_minor": 2
}
