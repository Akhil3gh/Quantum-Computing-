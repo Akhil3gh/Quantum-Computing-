{
 "cells": [
  {
   "cell_type": "markdown",
   "metadata": {},
   "source": [
    "## **Program 5**"
   ]
  },
  {
   "cell_type": "markdown",
   "metadata": {},
   "source": [
    "## A quantum oracle implementation of the classical OR operation\n",
    "\n",
    "Toffoli gate implements the quantum version of the classical AND operation. The first part of this exercise will require you to construct such a quantum implementation for the OR operation.\n",
    "The logical OR operation takes two Boolean inputs and returns 1 as the result if either or both of the inputs are 1. It is often denoted using the $\\vee$ symbol (it is also called the disjunction operation). The truth table for the classical OR operation is given below:\n",
    "\n",
    "| $x$ \t| $y$ \t| $x\\vee y$ \t|\n",
    "|-----\t|-----\t|-----------\t|\n",
    "| 0   \t| 0   \t| 0         \t|\n",
    "| 0   \t| 1   \t| 1         \t|\n",
    "| 1   \t| 0   \t| 1         \t|\n",
    "| 1   \t| 1   \t| 1         \t|\n",
    "\n",
    "### De Morgan's laws\n",
    "Finding a gate that is the direct quantum analogue of the OR operation might prove to be difficult. Luckily, there are a set of two relation in Boolean algebra that can provide a helpful workaround. \n",
    "$$\\overline{x\\vee y} = \\overline{x} \\wedge \\overline{y}$$\n",
    "This is read as _not ($x$ or $y$) = not $x$ and not $y$_\n",
    "$$\\overline{x\\wedge y} = \\overline{x} \\vee \\overline{y}$$\n",
    "This is read as _not ($x$ or $y$) = not $x$ and not $y$_"
   ]
  },
  {
   "cell_type": "markdown",
   "metadata": {},
   "source": [
    "## **Problem**\n",
    "\n",
    "1. Using the expressions for De Morgan's laws above, construct a Boolean formula for $x \\vee y$ consisting only of the logical AND and NOT operations. \n",
    "2. Prepare `QuantumCircuit()` for a quantum bit oracle to implement the OR operation. Apply the appropriate gates to this circuit based on the expression calculated in Step 1. Do NOT add a measurement"
   ]
  },
  {
   "cell_type": "code",
   "execution_count": 1,
   "metadata": {},
   "outputs": [],
   "source": [
    "# Importing standard python and Qiskit libraries\n",
    "\n",
    "%matplotlib inline\n",
    "import numpy as np\n",
    "import matplotlib.pyplot as plt\n",
    "# Importing standard Qiskit libraries\n",
    "from qiskit import QuantumCircuit, execute\n",
    "from qiskit.providers.aer import QasmSimulator\n",
    "from qiskit.visualization import *\n",
    "from qiskit.quantum_info import *\n",
    "basis_gates = ['id', 'x', 'y', 'z', 's', 't', 'sdg', 'tdg', 'h', 'p', 'sx' ,'r', 'rx', 'ry', 'rz', 'u', 'u1', 'u2', 'u3', 'cx', 'ccx', 'barrier', 'measure', 'snapshot']"
   ]
  },
  {
   "cell_type": "code",
   "execution_count": 2,
   "metadata": {},
   "outputs": [
    {
     "data": {
      "image/png": "[encoded data removed]",
      "text/plain": [
       "<Figure size 501.977x204.68 with 1 Axes>"
      ]
     },
     "execution_count": 2,
     "metadata": {},
     "output_type": "execute_result"
    }
   ],
   "source": [
    "# Implementing Quantum circuit to prepare the Oracle\n",
    "\n",
    "or_oracle = QuantumCircuit(3)\n",
    "\n",
    "or_oracle.x(range(2))\n",
    "or_oracle.barrier()\n",
    "or_oracle.ccx(0,1,2)\n",
    "or_oracle.x(2)\n",
    "or_oracle.barrier()\n",
    "or_oracle.x(range(2))\n",
    "# Do not change below this line\n",
    "or_oracle.draw(output='mpl')"
   ]
  },
  {
   "cell_type": "markdown",
   "metadata": {},
   "source": [
    "**Checking the results of prepared Oracle**"
   ]
  },
  {
   "cell_type": "code",
   "execution_count": 4,
   "metadata": {},
   "outputs": [
    {
     "name": "stdout",
     "output_type": "stream",
     "text": [
      "Your oracle construction passed all checks\n"
     ]
    }
   ],
   "source": [
    "or_tt = ['000', '011', '101', '111']\n",
    "def check_or_oracle(tt_row):\n",
    "    check_qc = QuantumCircuit(3)\n",
    "    for i in range(2):\n",
    "        if (tt_row[i] == '1'):\n",
    "            check_qc.x(i)\n",
    "    check_qc.extend(or_oracle)\n",
    "    check_qc.measure_all()\n",
    "    return (execute(check_qc.reverse_bits(),backend=QasmSimulator(), shots=1).result().get_counts().most_frequent() == tt_row)\n",
    "try:\n",
    "    assert list(or_oracle.count_ops()) != [], f\"Circuit cannot be empty\"\n",
    "    assert 'measure' not in or_oracle.count_ops(), f\"Please remove measurements\"\n",
    "    assert set(or_oracle.count_ops().keys()).difference(basis_gates) == set(), f\"Only the following basic gates are allowed: {basis_gates}\"\n",
    "    for tt_row in or_tt:     \n",
    "        assert check_or_oracle(tt_row), f\" Input {state[0:2]}: Your encoding is not correct\"\n",
    "    print(\"Your oracle construction passed all checks\")\n",
    "except AssertionError as e:\n",
    "    print(f'Your code has an error:  {e.args[0]}')\n",
    "    \n",
    "except Exception as e:\n",
    "    print(f'This error occured: {e.args[0]}')"
   ]
  },
  {
   "cell_type": "code",
   "execution_count": null,
   "metadata": {},
   "outputs": [],
   "source": []
  }
 ],
 "metadata": {
  "kernelspec": {
   "display_name": "Python 3",
   "language": "python",
   "name": "python3"
  },
  "language_info": {
   "codemirror_mode": {
    "name": "ipython",
    "version": 3
   },
   "file_extension": ".py",
   "mimetype": "text/x-python",
   "name": "python",
   "nbconvert_exporter": "python",
   "pygments_lexer": "ipython3",
   "version": "3.7.4"
  }
 },
 "nbformat": 4,
 "nbformat_minor": 2
}
